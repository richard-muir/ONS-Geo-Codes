{
 "cells": [
  {
   "cell_type": "code",
   "execution_count": 1,
   "metadata": {
    "collapsed": true
   },
   "outputs": [],
   "source": [
    "import numpy as np\n",
    "from pandas import Series, DataFrame\n",
    "import pandas as pd"
   ]
  },
  {
   "cell_type": "markdown",
   "metadata": {},
   "source": [
    "## This code takes together different ONS geography codes and merges them together to create a lookup"
   ]
  },
  {
   "cell_type": "markdown",
   "metadata": {},
   "source": [
    "I'll use this as a base"
   ]
  },
  {
   "cell_type": "code",
   "execution_count": 2,
   "metadata": {
    "collapsed": false
   },
   "outputs": [],
   "source": [
    "base = pd.read_csv('OA - LSOA - MSOA.csv', encoding = \"ISO-8859-1\", low_memory=False)"
   ]
  },
  {
   "cell_type": "code",
   "execution_count": 3,
   "metadata": {
    "collapsed": false
   },
   "outputs": [
    {
     "name": "stdout",
     "output_type": "stream",
     "text": [
      "<class 'pandas.core.frame.DataFrame'>\n",
      "Int64Index: 181408 entries, 0 to 181407\n",
      "Data columns (total 8 columns):\n",
      "OA11CD      181408 non-null object\n",
      "LSOA11CD    181408 non-null object\n",
      "LSOA11NM    181408 non-null object\n",
      "MSOA11CD    181408 non-null object\n",
      "MSOA11NM    181408 non-null object\n",
      "LAD11CD     181408 non-null object\n",
      "LAD11NM     181408 non-null object\n",
      "LAD11NMW    10036 non-null object\n",
      "dtypes: object(8)\n",
      "memory usage: 12.5+ MB\n"
     ]
    }
   ],
   "source": [
    "base_df = DataFrame(base)\n",
    "base_df.info()"
   ]
  },
  {
   "cell_type": "markdown",
   "metadata": {},
   "source": [
    "Rename to make it easier to read columns:"
   ]
  },
  {
   "cell_type": "code",
   "execution_count": 4,
   "metadata": {
    "collapsed": false
   },
   "outputs": [],
   "source": [
    "base_df.rename(columns={'OA11CD':'OA','LSOA11CD':'LSOA','MSOA11CD':'MSOA','LAD11CD':'LAD'}, inplace=True)\n",
    "cols = list(base_df)\n",
    "for col in cols:\n",
    "    if 'NM' in col:\n",
    "        base_df.drop([col], axis=1, inplace=True)"
   ]
  },
  {
   "cell_type": "code",
   "execution_count": 5,
   "metadata": {
    "collapsed": false
   },
   "outputs": [
    {
     "name": "stdout",
     "output_type": "stream",
     "text": [
      "<class 'pandas.core.frame.DataFrame'>\n",
      "Int64Index: 181408 entries, 0 to 181407\n",
      "Data columns (total 4 columns):\n",
      "OA      181408 non-null object\n",
      "LSOA    181408 non-null object\n",
      "MSOA    181408 non-null object\n",
      "LAD     181408 non-null object\n",
      "dtypes: object(4)\n",
      "memory usage: 6.9+ MB\n"
     ]
    }
   ],
   "source": [
    "base_df.info()"
   ]
  },
  {
   "cell_type": "markdown",
   "metadata": {},
   "source": [
    "Load in the ward data:"
   ]
  },
  {
   "cell_type": "code",
   "execution_count": 6,
   "metadata": {
    "collapsed": false
   },
   "outputs": [
    {
     "data": {
      "text/plain": [
       "['OA',\n",
       " 'WARD',\n",
       " 'WD11NM',\n",
       " 'WD11NMW',\n",
       " 'SMPOPIND',\n",
       " 'PERCENTAGE_BF',\n",
       " 'LAD11CD',\n",
       " 'LAD11NM',\n",
       " 'LAD11NMW']"
      ]
     },
     "execution_count": 6,
     "metadata": {},
     "output_type": "execute_result"
    }
   ],
   "source": [
    "ward = pd.read_csv('OA - Ward.csv',encoding = \"ISO-8859-1\", low_memory=False)\n",
    "ward_df = DataFrame(ward)\n",
    "ward_df.rename(columns={'OA11CD':'OA','WD11CD':'WARD'}, inplace=True)\n",
    "cols = list(ward_df)\n",
    "cols"
   ]
  },
  {
   "cell_type": "markdown",
   "metadata": {},
   "source": [
    "Don't need most of the columns, just want to merge the ward onto the OA Data:"
   ]
  },
  {
   "cell_type": "code",
   "execution_count": 7,
   "metadata": {
    "collapsed": false
   },
   "outputs": [],
   "source": [
    "for col in cols[2:]:\n",
    "    ward_df.drop([col], axis=1, inplace=True)"
   ]
  },
  {
   "cell_type": "code",
   "execution_count": 8,
   "metadata": {
    "collapsed": true
   },
   "outputs": [],
   "source": [
    "base_df = base_df.merge(ward_df, on=['OA'])"
   ]
  },
  {
   "cell_type": "code",
   "execution_count": 9,
   "metadata": {
    "collapsed": false
   },
   "outputs": [
    {
     "data": {
      "text/html": [
       "<div>\n",
       "<table border=\"1\" class=\"dataframe\">\n",
       "  <thead>\n",
       "    <tr style=\"text-align: right;\">\n",
       "      <th></th>\n",
       "      <th>OA</th>\n",
       "      <th>LSOA</th>\n",
       "      <th>MSOA</th>\n",
       "      <th>LAD</th>\n",
       "      <th>WARD</th>\n",
       "    </tr>\n",
       "  </thead>\n",
       "  <tbody>\n",
       "    <tr>\n",
       "      <th>0</th>\n",
       "      <td>E00000001</td>\n",
       "      <td>E01000001</td>\n",
       "      <td>E02000001</td>\n",
       "      <td>E09000001</td>\n",
       "      <td>E05000001</td>\n",
       "    </tr>\n",
       "    <tr>\n",
       "      <th>1</th>\n",
       "      <td>E00000003</td>\n",
       "      <td>E01000001</td>\n",
       "      <td>E02000001</td>\n",
       "      <td>E09000001</td>\n",
       "      <td>E05000001</td>\n",
       "    </tr>\n",
       "    <tr>\n",
       "      <th>2</th>\n",
       "      <td>E00000005</td>\n",
       "      <td>E01000001</td>\n",
       "      <td>E02000001</td>\n",
       "      <td>E09000001</td>\n",
       "      <td>E05000001</td>\n",
       "    </tr>\n",
       "    <tr>\n",
       "      <th>3</th>\n",
       "      <td>E00000007</td>\n",
       "      <td>E01000001</td>\n",
       "      <td>E02000001</td>\n",
       "      <td>E09000001</td>\n",
       "      <td>E05000011</td>\n",
       "    </tr>\n",
       "    <tr>\n",
       "      <th>4</th>\n",
       "      <td>E00000010</td>\n",
       "      <td>E01000003</td>\n",
       "      <td>E02000001</td>\n",
       "      <td>E09000001</td>\n",
       "      <td>E05000015</td>\n",
       "    </tr>\n",
       "  </tbody>\n",
       "</table>\n",
       "</div>"
      ],
      "text/plain": [
       "          OA       LSOA       MSOA        LAD       WARD\n",
       "0  E00000001  E01000001  E02000001  E09000001  E05000001\n",
       "1  E00000003  E01000001  E02000001  E09000001  E05000001\n",
       "2  E00000005  E01000001  E02000001  E09000001  E05000001\n",
       "3  E00000007  E01000001  E02000001  E09000001  E05000011\n",
       "4  E00000010  E01000003  E02000001  E09000001  E05000015"
      ]
     },
     "execution_count": 9,
     "metadata": {},
     "output_type": "execute_result"
    }
   ],
   "source": [
    "base_df.head()"
   ]
  },
  {
   "cell_type": "markdown",
   "metadata": {},
   "source": [
    "Merge on the parish data. Once again onto OA. Not every OA has a parish:"
   ]
  },
  {
   "cell_type": "code",
   "execution_count": 10,
   "metadata": {
    "collapsed": false
   },
   "outputs": [
    {
     "data": {
      "text/html": [
       "<div>\n",
       "<table border=\"1\" class=\"dataframe\">\n",
       "  <thead>\n",
       "    <tr style=\"text-align: right;\">\n",
       "      <th></th>\n",
       "      <th>OA</th>\n",
       "      <th>PARISH</th>\n",
       "    </tr>\n",
       "  </thead>\n",
       "  <tbody>\n",
       "    <tr>\n",
       "      <th>0</th>\n",
       "      <td>E00000001</td>\n",
       "      <td>NaN</td>\n",
       "    </tr>\n",
       "    <tr>\n",
       "      <th>1</th>\n",
       "      <td>E00000003</td>\n",
       "      <td>NaN</td>\n",
       "    </tr>\n",
       "    <tr>\n",
       "      <th>2</th>\n",
       "      <td>E00000005</td>\n",
       "      <td>NaN</td>\n",
       "    </tr>\n",
       "    <tr>\n",
       "      <th>3</th>\n",
       "      <td>E00000007</td>\n",
       "      <td>NaN</td>\n",
       "    </tr>\n",
       "    <tr>\n",
       "      <th>4</th>\n",
       "      <td>E00000010</td>\n",
       "      <td>NaN</td>\n",
       "    </tr>\n",
       "  </tbody>\n",
       "</table>\n",
       "</div>"
      ],
      "text/plain": [
       "          OA PARISH\n",
       "0  E00000001    NaN\n",
       "1  E00000003    NaN\n",
       "2  E00000005    NaN\n",
       "3  E00000007    NaN\n",
       "4  E00000010    NaN"
      ]
     },
     "execution_count": 10,
     "metadata": {},
     "output_type": "execute_result"
    }
   ],
   "source": [
    "parish = pd.read_csv(\"OA - Parish.csv\", encoding = \"ISO-8859-1\", low_memory=False)\n",
    "parish_df = DataFrame(parish)\n",
    "parish_df.rename(columns={\"OA11CD\":'OA','PAR11CD':'PARISH'}, inplace=True)\n",
    "cols = list(parish_df)\n",
    "for col in cols[2:]:\n",
    "    parish_df.drop([col], axis=1, inplace=True)\n",
    "parish_df.head()"
   ]
  },
  {
   "cell_type": "code",
   "execution_count": 11,
   "metadata": {
    "collapsed": false
   },
   "outputs": [
    {
     "data": {
      "text/html": [
       "<div>\n",
       "<table border=\"1\" class=\"dataframe\">\n",
       "  <thead>\n",
       "    <tr style=\"text-align: right;\">\n",
       "      <th></th>\n",
       "      <th>OA</th>\n",
       "      <th>LSOA</th>\n",
       "      <th>MSOA</th>\n",
       "      <th>LAD</th>\n",
       "      <th>WARD</th>\n",
       "      <th>PARISH</th>\n",
       "    </tr>\n",
       "  </thead>\n",
       "  <tbody>\n",
       "    <tr>\n",
       "      <th>0</th>\n",
       "      <td>E00000001</td>\n",
       "      <td>E01000001</td>\n",
       "      <td>E02000001</td>\n",
       "      <td>E09000001</td>\n",
       "      <td>E05000001</td>\n",
       "      <td>NaN</td>\n",
       "    </tr>\n",
       "    <tr>\n",
       "      <th>1</th>\n",
       "      <td>E00000003</td>\n",
       "      <td>E01000001</td>\n",
       "      <td>E02000001</td>\n",
       "      <td>E09000001</td>\n",
       "      <td>E05000001</td>\n",
       "      <td>NaN</td>\n",
       "    </tr>\n",
       "    <tr>\n",
       "      <th>2</th>\n",
       "      <td>E00000005</td>\n",
       "      <td>E01000001</td>\n",
       "      <td>E02000001</td>\n",
       "      <td>E09000001</td>\n",
       "      <td>E05000001</td>\n",
       "      <td>NaN</td>\n",
       "    </tr>\n",
       "    <tr>\n",
       "      <th>3</th>\n",
       "      <td>E00000007</td>\n",
       "      <td>E01000001</td>\n",
       "      <td>E02000001</td>\n",
       "      <td>E09000001</td>\n",
       "      <td>E05000011</td>\n",
       "      <td>NaN</td>\n",
       "    </tr>\n",
       "    <tr>\n",
       "      <th>4</th>\n",
       "      <td>E00000010</td>\n",
       "      <td>E01000003</td>\n",
       "      <td>E02000001</td>\n",
       "      <td>E09000001</td>\n",
       "      <td>E05000015</td>\n",
       "      <td>NaN</td>\n",
       "    </tr>\n",
       "  </tbody>\n",
       "</table>\n",
       "</div>"
      ],
      "text/plain": [
       "          OA       LSOA       MSOA        LAD       WARD PARISH\n",
       "0  E00000001  E01000001  E02000001  E09000001  E05000001    NaN\n",
       "1  E00000003  E01000001  E02000001  E09000001  E05000001    NaN\n",
       "2  E00000005  E01000001  E02000001  E09000001  E05000001    NaN\n",
       "3  E00000007  E01000001  E02000001  E09000001  E05000011    NaN\n",
       "4  E00000010  E01000003  E02000001  E09000001  E05000015    NaN"
      ]
     },
     "execution_count": 11,
     "metadata": {},
     "output_type": "execute_result"
    }
   ],
   "source": [
    "base_df = base_df.merge(parish_df, on=['OA'])\n",
    "base_df.head()"
   ]
  },
  {
   "cell_type": "markdown",
   "metadata": {},
   "source": [
    "The ons have previously made a lookup (sorry, forgot to record the source for this :-/):"
   ]
  },
  {
   "cell_type": "code",
   "execution_count": 13,
   "metadata": {
    "collapsed": false
   },
   "outputs": [
    {
     "data": {
      "text/plain": [
       "['CTRY11CD',\n",
       " 'CTRY11CDO',\n",
       " 'CTRY11NM',\n",
       " 'GOR10CD',\n",
       " 'GOR',\n",
       " 'GOR NAME',\n",
       " 'COUNTY',\n",
       " 'COUNTY CODE',\n",
       " 'COUNTY NAME',\n",
       " 'LAD',\n",
       " 'LAD CODE',\n",
       " 'AUTH/DIST/BORO NAME',\n",
       " 'WARD',\n",
       " 'WARD CODE',\n",
       " 'WD11NM']"
      ]
     },
     "execution_count": 13,
     "metadata": {},
     "output_type": "execute_result"
    }
   ],
   "source": [
    "lookup = pd.read_csv(\"lookup.csv\", encoding=\"ISO-8859-1\", low_memory=False)\n",
    "lookup_df = DataFrame(lookup)\n",
    "lookup_df.rename(columns={'GOR10CDO':'GOR','GOR10NM':'GOR NAME',\n",
    "                         'CTY11CD':'COUNTY','CTY11NM':'COUNTY NAME',\n",
    "                          'CTY11CDO':'COUNTY CODE','LAD11CDO':'LAD CODE',\n",
    "                         'LAD11CD':'LAD','LAD11NM':'AUTH/DIST/BORO NAME',\n",
    "                         'WD11CD':'WARD', 'WD11CDO':'WARD CODE'}, inplace=True)\n",
    "cols = list(lookup_df)\n",
    "for col in cols:\n",
    "    if 'CD' in col or 'NM' in col:\n",
    "        lookup_df.drop([col], axis=1, inplace = True)\n",
    "cols"
   ]
  },
  {
   "cell_type": "markdown",
   "metadata": {},
   "source": [
    "Merge this source onto the existing parish & ward dataset:"
   ]
  },
  {
   "cell_type": "code",
   "execution_count": 14,
   "metadata": {
    "collapsed": false
   },
   "outputs": [
    {
     "data": {
      "text/html": [
       "<div>\n",
       "<table border=\"1\" class=\"dataframe\">\n",
       "  <thead>\n",
       "    <tr style=\"text-align: right;\">\n",
       "      <th></th>\n",
       "      <th>OA</th>\n",
       "      <th>LSOA</th>\n",
       "      <th>MSOA</th>\n",
       "      <th>LAD</th>\n",
       "      <th>WARD</th>\n",
       "      <th>PARISH</th>\n",
       "      <th>GOR</th>\n",
       "      <th>GOR NAME</th>\n",
       "      <th>COUNTY</th>\n",
       "      <th>COUNTY CODE</th>\n",
       "      <th>COUNTY NAME</th>\n",
       "      <th>LAD CODE</th>\n",
       "      <th>AUTH/DIST/BORO NAME</th>\n",
       "      <th>WARD CODE</th>\n",
       "    </tr>\n",
       "  </thead>\n",
       "  <tbody>\n",
       "    <tr>\n",
       "      <th>0</th>\n",
       "      <td>E00000001</td>\n",
       "      <td>E01000001</td>\n",
       "      <td>E02000001</td>\n",
       "      <td>E09000001</td>\n",
       "      <td>E05000001</td>\n",
       "      <td>NaN</td>\n",
       "      <td>H</td>\n",
       "      <td>London</td>\n",
       "      <td>NaN</td>\n",
       "      <td>0</td>\n",
       "      <td>Greater London</td>\n",
       "      <td>00AA</td>\n",
       "      <td>City of London</td>\n",
       "      <td>00AAFA</td>\n",
       "    </tr>\n",
       "    <tr>\n",
       "      <th>1</th>\n",
       "      <td>E00000003</td>\n",
       "      <td>E01000001</td>\n",
       "      <td>E02000001</td>\n",
       "      <td>E09000001</td>\n",
       "      <td>E05000001</td>\n",
       "      <td>NaN</td>\n",
       "      <td>H</td>\n",
       "      <td>London</td>\n",
       "      <td>NaN</td>\n",
       "      <td>0</td>\n",
       "      <td>Greater London</td>\n",
       "      <td>00AA</td>\n",
       "      <td>City of London</td>\n",
       "      <td>00AAFA</td>\n",
       "    </tr>\n",
       "    <tr>\n",
       "      <th>2</th>\n",
       "      <td>E00000005</td>\n",
       "      <td>E01000001</td>\n",
       "      <td>E02000001</td>\n",
       "      <td>E09000001</td>\n",
       "      <td>E05000001</td>\n",
       "      <td>NaN</td>\n",
       "      <td>H</td>\n",
       "      <td>London</td>\n",
       "      <td>NaN</td>\n",
       "      <td>0</td>\n",
       "      <td>Greater London</td>\n",
       "      <td>00AA</td>\n",
       "      <td>City of London</td>\n",
       "      <td>00AAFA</td>\n",
       "    </tr>\n",
       "    <tr>\n",
       "      <th>3</th>\n",
       "      <td>E00166756</td>\n",
       "      <td>E01000001</td>\n",
       "      <td>E02000001</td>\n",
       "      <td>E09000001</td>\n",
       "      <td>E05000001</td>\n",
       "      <td>NaN</td>\n",
       "      <td>H</td>\n",
       "      <td>London</td>\n",
       "      <td>NaN</td>\n",
       "      <td>0</td>\n",
       "      <td>Greater London</td>\n",
       "      <td>00AA</td>\n",
       "      <td>City of London</td>\n",
       "      <td>00AAFA</td>\n",
       "    </tr>\n",
       "    <tr>\n",
       "      <th>4</th>\n",
       "      <td>E00166758</td>\n",
       "      <td>E01000001</td>\n",
       "      <td>E02000001</td>\n",
       "      <td>E09000001</td>\n",
       "      <td>E05000001</td>\n",
       "      <td>NaN</td>\n",
       "      <td>H</td>\n",
       "      <td>London</td>\n",
       "      <td>NaN</td>\n",
       "      <td>0</td>\n",
       "      <td>Greater London</td>\n",
       "      <td>00AA</td>\n",
       "      <td>City of London</td>\n",
       "      <td>00AAFA</td>\n",
       "    </tr>\n",
       "  </tbody>\n",
       "</table>\n",
       "</div>"
      ],
      "text/plain": [
       "          OA       LSOA       MSOA        LAD       WARD PARISH GOR GOR NAME  \\\n",
       "0  E00000001  E01000001  E02000001  E09000001  E05000001    NaN   H   London   \n",
       "1  E00000003  E01000001  E02000001  E09000001  E05000001    NaN   H   London   \n",
       "2  E00000005  E01000001  E02000001  E09000001  E05000001    NaN   H   London   \n",
       "3  E00166756  E01000001  E02000001  E09000001  E05000001    NaN   H   London   \n",
       "4  E00166758  E01000001  E02000001  E09000001  E05000001    NaN   H   London   \n",
       "\n",
       "  COUNTY  COUNTY CODE     COUNTY NAME LAD CODE AUTH/DIST/BORO NAME WARD CODE  \n",
       "0    NaN            0  Greater London     00AA      City of London    00AAFA  \n",
       "1    NaN            0  Greater London     00AA      City of London    00AAFA  \n",
       "2    NaN            0  Greater London     00AA      City of London    00AAFA  \n",
       "3    NaN            0  Greater London     00AA      City of London    00AAFA  \n",
       "4    NaN            0  Greater London     00AA      City of London    00AAFA  "
      ]
     },
     "execution_count": 14,
     "metadata": {},
     "output_type": "execute_result"
    }
   ],
   "source": [
    "base_df = base_df.merge(lookup_df, on=['WARD','LAD'])\n",
    "base_df.head()"
   ]
  },
  {
   "cell_type": "markdown",
   "metadata": {},
   "source": [
    "Drop any duplicated columns:"
   ]
  },
  {
   "cell_type": "code",
   "execution_count": 15,
   "metadata": {
    "collapsed": false
   },
   "outputs": [],
   "source": [
    "cols = list(base_df)\n",
    "for col in cols:\n",
    "    if '_x' in col:\n",
    "        base_df.drop([col], axis=1, inplace=True)\n",
    "    elif '_y' in col:\n",
    "        base_df.rename(columns={col:col[:-2]}, inplace=True)"
   ]
  },
  {
   "cell_type": "code",
   "execution_count": 16,
   "metadata": {
    "collapsed": false
   },
   "outputs": [
    {
     "data": {
      "text/html": [
       "<div>\n",
       "<table border=\"1\" class=\"dataframe\">\n",
       "  <thead>\n",
       "    <tr style=\"text-align: right;\">\n",
       "      <th></th>\n",
       "      <th>OA</th>\n",
       "      <th>LSOA</th>\n",
       "      <th>MSOA</th>\n",
       "      <th>LAD</th>\n",
       "      <th>WARD</th>\n",
       "      <th>PARISH</th>\n",
       "      <th>GOR</th>\n",
       "      <th>GOR NAME</th>\n",
       "      <th>COUNTY</th>\n",
       "      <th>COUNTY CODE</th>\n",
       "      <th>COUNTY NAME</th>\n",
       "      <th>LAD CODE</th>\n",
       "      <th>AUTH/DIST/BORO NAME</th>\n",
       "      <th>WARD CODE</th>\n",
       "    </tr>\n",
       "  </thead>\n",
       "  <tbody>\n",
       "    <tr>\n",
       "      <th>0</th>\n",
       "      <td>E00000001</td>\n",
       "      <td>E01000001</td>\n",
       "      <td>E02000001</td>\n",
       "      <td>E09000001</td>\n",
       "      <td>E05000001</td>\n",
       "      <td>NaN</td>\n",
       "      <td>H</td>\n",
       "      <td>London</td>\n",
       "      <td>NaN</td>\n",
       "      <td>0</td>\n",
       "      <td>Greater London</td>\n",
       "      <td>00AA</td>\n",
       "      <td>City of London</td>\n",
       "      <td>00AAFA</td>\n",
       "    </tr>\n",
       "    <tr>\n",
       "      <th>1</th>\n",
       "      <td>E00000003</td>\n",
       "      <td>E01000001</td>\n",
       "      <td>E02000001</td>\n",
       "      <td>E09000001</td>\n",
       "      <td>E05000001</td>\n",
       "      <td>NaN</td>\n",
       "      <td>H</td>\n",
       "      <td>London</td>\n",
       "      <td>NaN</td>\n",
       "      <td>0</td>\n",
       "      <td>Greater London</td>\n",
       "      <td>00AA</td>\n",
       "      <td>City of London</td>\n",
       "      <td>00AAFA</td>\n",
       "    </tr>\n",
       "    <tr>\n",
       "      <th>2</th>\n",
       "      <td>E00000005</td>\n",
       "      <td>E01000001</td>\n",
       "      <td>E02000001</td>\n",
       "      <td>E09000001</td>\n",
       "      <td>E05000001</td>\n",
       "      <td>NaN</td>\n",
       "      <td>H</td>\n",
       "      <td>London</td>\n",
       "      <td>NaN</td>\n",
       "      <td>0</td>\n",
       "      <td>Greater London</td>\n",
       "      <td>00AA</td>\n",
       "      <td>City of London</td>\n",
       "      <td>00AAFA</td>\n",
       "    </tr>\n",
       "    <tr>\n",
       "      <th>3</th>\n",
       "      <td>E00166756</td>\n",
       "      <td>E01000001</td>\n",
       "      <td>E02000001</td>\n",
       "      <td>E09000001</td>\n",
       "      <td>E05000001</td>\n",
       "      <td>NaN</td>\n",
       "      <td>H</td>\n",
       "      <td>London</td>\n",
       "      <td>NaN</td>\n",
       "      <td>0</td>\n",
       "      <td>Greater London</td>\n",
       "      <td>00AA</td>\n",
       "      <td>City of London</td>\n",
       "      <td>00AAFA</td>\n",
       "    </tr>\n",
       "    <tr>\n",
       "      <th>4</th>\n",
       "      <td>E00166758</td>\n",
       "      <td>E01000001</td>\n",
       "      <td>E02000001</td>\n",
       "      <td>E09000001</td>\n",
       "      <td>E05000001</td>\n",
       "      <td>NaN</td>\n",
       "      <td>H</td>\n",
       "      <td>London</td>\n",
       "      <td>NaN</td>\n",
       "      <td>0</td>\n",
       "      <td>Greater London</td>\n",
       "      <td>00AA</td>\n",
       "      <td>City of London</td>\n",
       "      <td>00AAFA</td>\n",
       "    </tr>\n",
       "  </tbody>\n",
       "</table>\n",
       "</div>"
      ],
      "text/plain": [
       "          OA       LSOA       MSOA        LAD       WARD PARISH GOR GOR NAME  \\\n",
       "0  E00000001  E01000001  E02000001  E09000001  E05000001    NaN   H   London   \n",
       "1  E00000003  E01000001  E02000001  E09000001  E05000001    NaN   H   London   \n",
       "2  E00000005  E01000001  E02000001  E09000001  E05000001    NaN   H   London   \n",
       "3  E00166756  E01000001  E02000001  E09000001  E05000001    NaN   H   London   \n",
       "4  E00166758  E01000001  E02000001  E09000001  E05000001    NaN   H   London   \n",
       "\n",
       "  COUNTY  COUNTY CODE     COUNTY NAME LAD CODE AUTH/DIST/BORO NAME WARD CODE  \n",
       "0    NaN            0  Greater London     00AA      City of London    00AAFA  \n",
       "1    NaN            0  Greater London     00AA      City of London    00AAFA  \n",
       "2    NaN            0  Greater London     00AA      City of London    00AAFA  \n",
       "3    NaN            0  Greater London     00AA      City of London    00AAFA  \n",
       "4    NaN            0  Greater London     00AA      City of London    00AAFA  "
      ]
     },
     "execution_count": 16,
     "metadata": {},
     "output_type": "execute_result"
    }
   ],
   "source": [
    "base_df.head()"
   ]
  },
  {
   "cell_type": "markdown",
   "metadata": {},
   "source": [
    "Output to csv:"
   ]
  },
  {
   "cell_type": "code",
   "execution_count": 17,
   "metadata": {
    "collapsed": true
   },
   "outputs": [],
   "source": [
    "base_df.to_csv('ONS Geo Lookup.csv', na_rep='NA')"
   ]
  }
 ],
 "metadata": {
  "kernelspec": {
   "display_name": "Python 3",
   "language": "python",
   "name": "python3"
  },
  "language_info": {
   "codemirror_mode": {
    "name": "ipython",
    "version": 3
   },
   "file_extension": ".py",
   "mimetype": "text/x-python",
   "name": "python",
   "nbconvert_exporter": "python",
   "pygments_lexer": "ipython3",
   "version": "3.4.5"
  }
 },
 "nbformat": 4,
 "nbformat_minor": 0
}
